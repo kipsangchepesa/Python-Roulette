{
  "nbformat": 4,
  "nbformat_minor": 0,
  "metadata": {
    "colab": {
      "name": "How does land surface cover affect surface temperature.ipynb",
      "provenance": [],
      "collapsed_sections": [],
      "authorship_tag": "ABX9TyPO3HJRomVB4Zu5/PNZuKIg",
      "include_colab_link": true
    },
    "kernelspec": {
      "name": "python3",
      "display_name": "Python 3"
    },
    "language_info": {
      "name": "python"
    }
  },
  "cells": [
    {
      "cell_type": "markdown",
      "metadata": {
        "id": "view-in-github",
        "colab_type": "text"
      },
      "source": [
        "<a href=\"https://colab.research.google.com/github/kipsangchepesa/Python-Roulette/blob/master/How_does_land_surface_cover_affect_surface_temperature.ipynb\" target=\"_parent\"><img src=\"https://colab.research.google.com/assets/colab-badge.svg\" alt=\"Open In Colab\"/></a>"
      ]
    },
    {
      "cell_type": "markdown",
      "source": [
        "## Defining the question.\n",
        "\n",
        "How does land surface cover affect surface temperature? "
      ],
      "metadata": {
        "id": "qBCJkQb_l0MR"
      }
    },
    {
      "cell_type": "markdown",
      "source": [
        "##Dataset provided is for Reading between 1962 and 2010 with two land covers: \n",
        "• 100% Broad leaf trees\n",
        "\n",
        "• 100% Bare soil  \n",
        "and it can be downloaded from the following link:\n",
        "\n",
        "\n",
        "a).[Broaad leaf trees](https:///www.met.reading.ac.uk/~swrmethn/python_teaching/assignment_data/baresoil_temperature_1962_2010.nc )\n",
        "\n",
        "b).[Bare soil](https://www.met.reading.ac.uk/~swrmethn/python_teaching/assignment_data/broadleaftree_temperature_1962_2010.nc)"
      ],
      "metadata": {
        "id": "wR_3YS59l_bv"
      }
    },
    {
      "cell_type": "markdown",
      "source": [
        "##Metrics for success \n",
        " 1. To explore the interaction between climate, land cover and surface temperature using a land surface model by using output from the JULES land surface model.\n",
        "\n",
        " 2. To make sure that the configuration of JULES that produced the results we are using computes the energy and water balances at the land surface, based on prescribed weather and land cover. "
      ],
      "metadata": {
        "id": "KgCd8RHdouW6"
      }
    },
    {
      "cell_type": "markdown",
      "source": [
        "##Importing the libraries"
      ],
      "metadata": {
        "id": "nyug93fip4V8"
      }
    },
    {
      "cell_type": "code",
      "source": [
        "pip install rioxarray "
      ],
      "metadata": {
        "colab": {
          "base_uri": "https://localhost:8080/"
        },
        "id": "SSG-mcSytLaD",
        "outputId": "2b21b7c1-2ba3-4151-eabf-172d07b9dfbc"
      },
      "execution_count": 2,
      "outputs": [
        {
          "output_type": "stream",
          "name": "stdout",
          "text": [
            "Collecting rioxarray\n",
            "  Downloading rioxarray-0.9.1.tar.gz (47 kB)\n",
            "\u001b[?25l\r\u001b[K     |███████                         | 10 kB 23.4 MB/s eta 0:00:01\r\u001b[K     |██████████████                  | 20 kB 12.8 MB/s eta 0:00:01\r\u001b[K     |████████████████████▉           | 30 kB 8.9 MB/s eta 0:00:01\r\u001b[K     |███████████████████████████▉    | 40 kB 8.6 MB/s eta 0:00:01\r\u001b[K     |████████████████████████████████| 47 kB 1.9 MB/s \n",
            "\u001b[?25h  Installing build dependencies ... \u001b[?25l\u001b[?25hdone\n",
            "  Getting requirements to build wheel ... \u001b[?25l\u001b[?25hdone\n",
            "    Preparing wheel metadata ... \u001b[?25l\u001b[?25hdone\n",
            "Collecting rasterio\n",
            "  Downloading rasterio-1.2.10-cp37-cp37m-manylinux1_x86_64.whl (19.3 MB)\n",
            "\u001b[K     |████████████████████████████████| 19.3 MB 6.0 MB/s \n",
            "\u001b[?25hRequirement already satisfied: xarray>=0.17 in /usr/local/lib/python3.7/dist-packages (from rioxarray) (0.18.2)\n",
            "Collecting pyproj>=2.2\n",
            "  Downloading pyproj-3.2.1-cp37-cp37m-manylinux2010_x86_64.whl (6.3 MB)\n",
            "\u001b[K     |████████████████████████████████| 6.3 MB 39.7 MB/s \n",
            "\u001b[?25hRequirement already satisfied: packaging in /usr/local/lib/python3.7/dist-packages (from rioxarray) (21.3)\n",
            "Requirement already satisfied: certifi in /usr/local/lib/python3.7/dist-packages (from pyproj>=2.2->rioxarray) (2021.10.8)\n",
            "Requirement already satisfied: numpy>=1.17 in /usr/local/lib/python3.7/dist-packages (from xarray>=0.17->rioxarray) (1.19.5)\n",
            "Requirement already satisfied: setuptools>=40.4 in /usr/local/lib/python3.7/dist-packages (from xarray>=0.17->rioxarray) (57.4.0)\n",
            "Requirement already satisfied: pandas>=1.0 in /usr/local/lib/python3.7/dist-packages (from xarray>=0.17->rioxarray) (1.1.5)\n",
            "Requirement already satisfied: pytz>=2017.2 in /usr/local/lib/python3.7/dist-packages (from pandas>=1.0->xarray>=0.17->rioxarray) (2018.9)\n",
            "Requirement already satisfied: python-dateutil>=2.7.3 in /usr/local/lib/python3.7/dist-packages (from pandas>=1.0->xarray>=0.17->rioxarray) (2.8.2)\n",
            "Requirement already satisfied: six>=1.5 in /usr/local/lib/python3.7/dist-packages (from python-dateutil>=2.7.3->pandas>=1.0->xarray>=0.17->rioxarray) (1.15.0)\n",
            "Requirement already satisfied: pyparsing!=3.0.5,>=2.0.2 in /usr/local/lib/python3.7/dist-packages (from packaging->rioxarray) (3.0.6)\n",
            "Collecting click-plugins\n",
            "  Downloading click_plugins-1.1.1-py2.py3-none-any.whl (7.5 kB)\n",
            "Collecting cligj>=0.5\n",
            "  Downloading cligj-0.7.2-py3-none-any.whl (7.1 kB)\n",
            "Collecting affine\n",
            "  Downloading affine-2.3.0-py2.py3-none-any.whl (15 kB)\n",
            "Collecting snuggs>=1.4.1\n",
            "  Downloading snuggs-1.4.7-py3-none-any.whl (5.4 kB)\n",
            "Requirement already satisfied: attrs in /usr/local/lib/python3.7/dist-packages (from rasterio->rioxarray) (21.2.0)\n",
            "Requirement already satisfied: click>=4.0 in /usr/local/lib/python3.7/dist-packages (from rasterio->rioxarray) (7.1.2)\n",
            "Building wheels for collected packages: rioxarray\n",
            "  Building wheel for rioxarray (PEP 517) ... \u001b[?25l\u001b[?25hdone\n",
            "  Created wheel for rioxarray: filename=rioxarray-0.9.1-py3-none-any.whl size=54612 sha256=90f261e192aebceb12207959ff993bbc89f5b1d21f05ed79d77071d9e9bf56d8\n",
            "  Stored in directory: /root/.cache/pip/wheels/07/da/9e/1cc57b2e7a29a206893db83e984a341e2e94378263e0798229\n",
            "Successfully built rioxarray\n",
            "Installing collected packages: snuggs, cligj, click-plugins, affine, rasterio, pyproj, rioxarray\n",
            "Successfully installed affine-2.3.0 click-plugins-1.1.1 cligj-0.7.2 pyproj-3.2.1 rasterio-1.2.10 rioxarray-0.9.1 snuggs-1.4.7\n"
          ]
        }
      ]
    },
    {
      "cell_type": "code",
      "source": [
        "pip install nc_time_axis"
      ],
      "metadata": {
        "colab": {
          "base_uri": "https://localhost:8080/"
        },
        "id": "j1maD87otEvJ",
        "outputId": "ee0af86c-efad-42c1-c62c-dd014b3e4b4b"
      },
      "execution_count": 3,
      "outputs": [
        {
          "output_type": "stream",
          "name": "stdout",
          "text": [
            "Collecting nc_time_axis\n",
            "  Downloading nc_time_axis-1.4.0-py3-none-any.whl (15 kB)\n",
            "Requirement already satisfied: cftime>=1.5 in /usr/local/lib/python3.7/dist-packages (from nc_time_axis) (1.5.1.1)\n",
            "Requirement already satisfied: numpy in /usr/local/lib/python3.7/dist-packages (from nc_time_axis) (1.19.5)\n",
            "Requirement already satisfied: matplotlib in /usr/local/lib/python3.7/dist-packages (from nc_time_axis) (3.2.2)\n",
            "Requirement already satisfied: kiwisolver>=1.0.1 in /usr/local/lib/python3.7/dist-packages (from matplotlib->nc_time_axis) (1.3.2)\n",
            "Requirement already satisfied: python-dateutil>=2.1 in /usr/local/lib/python3.7/dist-packages (from matplotlib->nc_time_axis) (2.8.2)\n",
            "Requirement already satisfied: pyparsing!=2.0.4,!=2.1.2,!=2.1.6,>=2.0.1 in /usr/local/lib/python3.7/dist-packages (from matplotlib->nc_time_axis) (3.0.6)\n",
            "Requirement already satisfied: cycler>=0.10 in /usr/local/lib/python3.7/dist-packages (from matplotlib->nc_time_axis) (0.11.0)\n",
            "Requirement already satisfied: six>=1.5 in /usr/local/lib/python3.7/dist-packages (from python-dateutil>=2.1->matplotlib->nc_time_axis) (1.15.0)\n",
            "Installing collected packages: nc-time-axis\n",
            "Successfully installed nc-time-axis-1.4.0\n"
          ]
        }
      ]
    },
    {
      "cell_type": "code",
      "source": [
        "pip install cftime "
      ],
      "metadata": {
        "colab": {
          "base_uri": "https://localhost:8080/"
        },
        "id": "fahfXTUotU9p",
        "outputId": "1205dba0-cb37-417b-ca01-2ed9dede0f11"
      },
      "execution_count": 4,
      "outputs": [
        {
          "output_type": "stream",
          "name": "stdout",
          "text": [
            "Requirement already satisfied: cftime in /usr/local/lib/python3.7/dist-packages (1.5.1.1)\n",
            "Requirement already satisfied: numpy in /usr/local/lib/python3.7/dist-packages (from cftime) (1.19.5)\n"
          ]
        }
      ]
    },
    {
      "cell_type": "code",
      "execution_count": 5,
      "metadata": {
        "id": "Oh_Tld6gGRMG"
      },
      "outputs": [],
      "source": [
        "import numpy as np  \n",
        "import pandas as pd \n",
        "import cftime\n",
        "import nc_time_axis\n",
        "import rioxarray \n",
        "import xarray\n",
        "import matplotlib.pyplot as plt\n",
        " \n",
        "\n"
      ]
    },
    {
      "cell_type": "markdown",
      "source": [
        "##Task 1 \n",
        "\n",
        "Once you have downloaded the data, write a series of functions for reading, plotting and comparing time series of surface temperature for each land cover type.  How does surface temperature vary with land cover?  You should consider displaying your results in a variety of ways – for example histograms, time series and some simple statistics. \n",
        "Present your results as a short description and interpretation (maximum one page) plus four plots.  You should also submit your Python code file for assessment.    \n"
      ],
      "metadata": {
        "id": "Ht6SyghQw6wA"
      }
    },
    {
      "cell_type": "markdown",
      "source": [
        "we need to unpack the data. To do this, we use the Dataset class of the netCDF4 module."
      ],
      "metadata": {
        "id": "qNDTOt6INNn1"
      }
    },
    {
      "cell_type": "code",
      "source": [
        "#fh becomes the file handle of the open netCDF file, \n",
        "#and the ‘r’ denotes that we want to open the file in read only mode.\n",
        "baresoil = '/content/baresoil_temperature_1962_2010.nc'\n",
        "broadleaf ='/content/broadleaftree_temperature_1962_2010.nc'\n"
      ],
      "metadata": {
        "id": "iFN4AW__MWLi"
      },
      "execution_count": 6,
      "outputs": []
    },
    {
      "cell_type": "code",
      "source": [
        "xr=rioxarray.open_rasterio(baresoil)\n",
        "xr"
      ],
      "metadata": {
        "id": "usm8hV0b_4M7",
        "colab": {
          "base_uri": "https://localhost:8080/",
          "height": 1000
        },
        "outputId": "1ea98d1f-4c6d-493c-e125-dc100d6d52ec"
      },
      "execution_count": 18,
      "outputs": [
        {
          "output_type": "execute_result",
          "data": {
            "text/html": [
              "<div><svg style=\"position: absolute; width: 0; height: 0; overflow: hidden\">\n",
              "<defs>\n",
              "<symbol id=\"icon-database\" viewBox=\"0 0 32 32\">\n",
              "<path d=\"M16 0c-8.837 0-16 2.239-16 5v4c0 2.761 7.163 5 16 5s16-2.239 16-5v-4c0-2.761-7.163-5-16-5z\"></path>\n",
              "<path d=\"M16 17c-8.837 0-16-2.239-16-5v6c0 2.761 7.163 5 16 5s16-2.239 16-5v-6c0 2.761-7.163 5-16 5z\"></path>\n",
              "<path d=\"M16 26c-8.837 0-16-2.239-16-5v6c0 2.761 7.163 5 16 5s16-2.239 16-5v-6c0 2.761-7.163 5-16 5z\"></path>\n",
              "</symbol>\n",
              "<symbol id=\"icon-file-text2\" viewBox=\"0 0 32 32\">\n",
              "<path d=\"M28.681 7.159c-0.694-0.947-1.662-2.053-2.724-3.116s-2.169-2.030-3.116-2.724c-1.612-1.182-2.393-1.319-2.841-1.319h-15.5c-1.378 0-2.5 1.121-2.5 2.5v27c0 1.378 1.122 2.5 2.5 2.5h23c1.378 0 2.5-1.122 2.5-2.5v-19.5c0-0.448-0.137-1.23-1.319-2.841zM24.543 5.457c0.959 0.959 1.712 1.825 2.268 2.543h-4.811v-4.811c0.718 0.556 1.584 1.309 2.543 2.268zM28 29.5c0 0.271-0.229 0.5-0.5 0.5h-23c-0.271 0-0.5-0.229-0.5-0.5v-27c0-0.271 0.229-0.5 0.5-0.5 0 0 15.499-0 15.5 0v7c0 0.552 0.448 1 1 1h7v19.5z\"></path>\n",
              "<path d=\"M23 26h-14c-0.552 0-1-0.448-1-1s0.448-1 1-1h14c0.552 0 1 0.448 1 1s-0.448 1-1 1z\"></path>\n",
              "<path d=\"M23 22h-14c-0.552 0-1-0.448-1-1s0.448-1 1-1h14c0.552 0 1 0.448 1 1s-0.448 1-1 1z\"></path>\n",
              "<path d=\"M23 18h-14c-0.552 0-1-0.448-1-1s0.448-1 1-1h14c0.552 0 1 0.448 1 1s-0.448 1-1 1z\"></path>\n",
              "</symbol>\n",
              "</defs>\n",
              "</svg>\n",
              "<style>/* CSS stylesheet for displaying xarray objects in jupyterlab.\n",
              " *\n",
              " */\n",
              "\n",
              ":root {\n",
              "  --xr-font-color0: var(--jp-content-font-color0, rgba(0, 0, 0, 1));\n",
              "  --xr-font-color2: var(--jp-content-font-color2, rgba(0, 0, 0, 0.54));\n",
              "  --xr-font-color3: var(--jp-content-font-color3, rgba(0, 0, 0, 0.38));\n",
              "  --xr-border-color: var(--jp-border-color2, #e0e0e0);\n",
              "  --xr-disabled-color: var(--jp-layout-color3, #bdbdbd);\n",
              "  --xr-background-color: var(--jp-layout-color0, white);\n",
              "  --xr-background-color-row-even: var(--jp-layout-color1, white);\n",
              "  --xr-background-color-row-odd: var(--jp-layout-color2, #eeeeee);\n",
              "}\n",
              "\n",
              "html[theme=dark],\n",
              "body.vscode-dark {\n",
              "  --xr-font-color0: rgba(255, 255, 255, 1);\n",
              "  --xr-font-color2: rgba(255, 255, 255, 0.54);\n",
              "  --xr-font-color3: rgba(255, 255, 255, 0.38);\n",
              "  --xr-border-color: #1F1F1F;\n",
              "  --xr-disabled-color: #515151;\n",
              "  --xr-background-color: #111111;\n",
              "  --xr-background-color-row-even: #111111;\n",
              "  --xr-background-color-row-odd: #313131;\n",
              "}\n",
              "\n",
              ".xr-wrap {\n",
              "  display: block;\n",
              "  min-width: 300px;\n",
              "  max-width: 700px;\n",
              "}\n",
              "\n",
              ".xr-text-repr-fallback {\n",
              "  /* fallback to plain text repr when CSS is not injected (untrusted notebook) */\n",
              "  display: none;\n",
              "}\n",
              "\n",
              ".xr-header {\n",
              "  padding-top: 6px;\n",
              "  padding-bottom: 6px;\n",
              "  margin-bottom: 4px;\n",
              "  border-bottom: solid 1px var(--xr-border-color);\n",
              "}\n",
              "\n",
              ".xr-header > div,\n",
              ".xr-header > ul {\n",
              "  display: inline;\n",
              "  margin-top: 0;\n",
              "  margin-bottom: 0;\n",
              "}\n",
              "\n",
              ".xr-obj-type,\n",
              ".xr-array-name {\n",
              "  margin-left: 2px;\n",
              "  margin-right: 10px;\n",
              "}\n",
              "\n",
              ".xr-obj-type {\n",
              "  color: var(--xr-font-color2);\n",
              "}\n",
              "\n",
              ".xr-sections {\n",
              "  padding-left: 0 !important;\n",
              "  display: grid;\n",
              "  grid-template-columns: 150px auto auto 1fr 20px 20px;\n",
              "}\n",
              "\n",
              ".xr-section-item {\n",
              "  display: contents;\n",
              "}\n",
              "\n",
              ".xr-section-item input {\n",
              "  display: none;\n",
              "}\n",
              "\n",
              ".xr-section-item input + label {\n",
              "  color: var(--xr-disabled-color);\n",
              "}\n",
              "\n",
              ".xr-section-item input:enabled + label {\n",
              "  cursor: pointer;\n",
              "  color: var(--xr-font-color2);\n",
              "}\n",
              "\n",
              ".xr-section-item input:enabled + label:hover {\n",
              "  color: var(--xr-font-color0);\n",
              "}\n",
              "\n",
              ".xr-section-summary {\n",
              "  grid-column: 1;\n",
              "  color: var(--xr-font-color2);\n",
              "  font-weight: 500;\n",
              "}\n",
              "\n",
              ".xr-section-summary > span {\n",
              "  display: inline-block;\n",
              "  padding-left: 0.5em;\n",
              "}\n",
              "\n",
              ".xr-section-summary-in:disabled + label {\n",
              "  color: var(--xr-font-color2);\n",
              "}\n",
              "\n",
              ".xr-section-summary-in + label:before {\n",
              "  display: inline-block;\n",
              "  content: '►';\n",
              "  font-size: 11px;\n",
              "  width: 15px;\n",
              "  text-align: center;\n",
              "}\n",
              "\n",
              ".xr-section-summary-in:disabled + label:before {\n",
              "  color: var(--xr-disabled-color);\n",
              "}\n",
              "\n",
              ".xr-section-summary-in:checked + label:before {\n",
              "  content: '▼';\n",
              "}\n",
              "\n",
              ".xr-section-summary-in:checked + label > span {\n",
              "  display: none;\n",
              "}\n",
              "\n",
              ".xr-section-summary,\n",
              ".xr-section-inline-details {\n",
              "  padding-top: 4px;\n",
              "  padding-bottom: 4px;\n",
              "}\n",
              "\n",
              ".xr-section-inline-details {\n",
              "  grid-column: 2 / -1;\n",
              "}\n",
              "\n",
              ".xr-section-details {\n",
              "  display: none;\n",
              "  grid-column: 1 / -1;\n",
              "  margin-bottom: 5px;\n",
              "}\n",
              "\n",
              ".xr-section-summary-in:checked ~ .xr-section-details {\n",
              "  display: contents;\n",
              "}\n",
              "\n",
              ".xr-array-wrap {\n",
              "  grid-column: 1 / -1;\n",
              "  display: grid;\n",
              "  grid-template-columns: 20px auto;\n",
              "}\n",
              "\n",
              ".xr-array-wrap > label {\n",
              "  grid-column: 1;\n",
              "  vertical-align: top;\n",
              "}\n",
              "\n",
              ".xr-preview {\n",
              "  color: var(--xr-font-color3);\n",
              "}\n",
              "\n",
              ".xr-array-preview,\n",
              ".xr-array-data {\n",
              "  padding: 0 5px !important;\n",
              "  grid-column: 2;\n",
              "}\n",
              "\n",
              ".xr-array-data,\n",
              ".xr-array-in:checked ~ .xr-array-preview {\n",
              "  display: none;\n",
              "}\n",
              "\n",
              ".xr-array-in:checked ~ .xr-array-data,\n",
              ".xr-array-preview {\n",
              "  display: inline-block;\n",
              "}\n",
              "\n",
              ".xr-dim-list {\n",
              "  display: inline-block !important;\n",
              "  list-style: none;\n",
              "  padding: 0 !important;\n",
              "  margin: 0;\n",
              "}\n",
              "\n",
              ".xr-dim-list li {\n",
              "  display: inline-block;\n",
              "  padding: 0;\n",
              "  margin: 0;\n",
              "}\n",
              "\n",
              ".xr-dim-list:before {\n",
              "  content: '(';\n",
              "}\n",
              "\n",
              ".xr-dim-list:after {\n",
              "  content: ')';\n",
              "}\n",
              "\n",
              ".xr-dim-list li:not(:last-child):after {\n",
              "  content: ',';\n",
              "  padding-right: 5px;\n",
              "}\n",
              "\n",
              ".xr-has-index {\n",
              "  font-weight: bold;\n",
              "}\n",
              "\n",
              ".xr-var-list,\n",
              ".xr-var-item {\n",
              "  display: contents;\n",
              "}\n",
              "\n",
              ".xr-var-item > div,\n",
              ".xr-var-item label,\n",
              ".xr-var-item > .xr-var-name span {\n",
              "  background-color: var(--xr-background-color-row-even);\n",
              "  margin-bottom: 0;\n",
              "}\n",
              "\n",
              ".xr-var-item > .xr-var-name:hover span {\n",
              "  padding-right: 5px;\n",
              "}\n",
              "\n",
              ".xr-var-list > li:nth-child(odd) > div,\n",
              ".xr-var-list > li:nth-child(odd) > label,\n",
              ".xr-var-list > li:nth-child(odd) > .xr-var-name span {\n",
              "  background-color: var(--xr-background-color-row-odd);\n",
              "}\n",
              "\n",
              ".xr-var-name {\n",
              "  grid-column: 1;\n",
              "}\n",
              "\n",
              ".xr-var-dims {\n",
              "  grid-column: 2;\n",
              "}\n",
              "\n",
              ".xr-var-dtype {\n",
              "  grid-column: 3;\n",
              "  text-align: right;\n",
              "  color: var(--xr-font-color2);\n",
              "}\n",
              "\n",
              ".xr-var-preview {\n",
              "  grid-column: 4;\n",
              "}\n",
              "\n",
              ".xr-var-name,\n",
              ".xr-var-dims,\n",
              ".xr-var-dtype,\n",
              ".xr-preview,\n",
              ".xr-attrs dt {\n",
              "  white-space: nowrap;\n",
              "  overflow: hidden;\n",
              "  text-overflow: ellipsis;\n",
              "  padding-right: 10px;\n",
              "}\n",
              "\n",
              ".xr-var-name:hover,\n",
              ".xr-var-dims:hover,\n",
              ".xr-var-dtype:hover,\n",
              ".xr-attrs dt:hover {\n",
              "  overflow: visible;\n",
              "  width: auto;\n",
              "  z-index: 1;\n",
              "}\n",
              "\n",
              ".xr-var-attrs,\n",
              ".xr-var-data {\n",
              "  display: none;\n",
              "  background-color: var(--xr-background-color) !important;\n",
              "  padding-bottom: 5px !important;\n",
              "}\n",
              "\n",
              ".xr-var-attrs-in:checked ~ .xr-var-attrs,\n",
              ".xr-var-data-in:checked ~ .xr-var-data {\n",
              "  display: block;\n",
              "}\n",
              "\n",
              ".xr-var-data > table {\n",
              "  float: right;\n",
              "}\n",
              "\n",
              ".xr-var-name span,\n",
              ".xr-var-data,\n",
              ".xr-attrs {\n",
              "  padding-left: 25px !important;\n",
              "}\n",
              "\n",
              ".xr-attrs,\n",
              ".xr-var-attrs,\n",
              ".xr-var-data {\n",
              "  grid-column: 1 / -1;\n",
              "}\n",
              "\n",
              "dl.xr-attrs {\n",
              "  padding: 0;\n",
              "  margin: 0;\n",
              "  display: grid;\n",
              "  grid-template-columns: 125px auto;\n",
              "}\n",
              "\n",
              ".xr-attrs dt,\n",
              ".xr-attrs dd {\n",
              "  padding: 0;\n",
              "  margin: 0;\n",
              "  float: left;\n",
              "  padding-right: 10px;\n",
              "  width: auto;\n",
              "}\n",
              "\n",
              ".xr-attrs dt {\n",
              "  font-weight: normal;\n",
              "  grid-column: 1;\n",
              "}\n",
              "\n",
              ".xr-attrs dt:hover span {\n",
              "  display: inline-block;\n",
              "  background: var(--xr-background-color);\n",
              "  padding-right: 10px;\n",
              "}\n",
              "\n",
              ".xr-attrs dd {\n",
              "  grid-column: 2;\n",
              "  white-space: pre-wrap;\n",
              "  word-break: break-all;\n",
              "}\n",
              "\n",
              ".xr-icon-database,\n",
              ".xr-icon-file-text2 {\n",
              "  display: inline-block;\n",
              "  vertical-align: middle;\n",
              "  width: 1em;\n",
              "  height: 1.5em !important;\n",
              "  stroke-width: 0;\n",
              "  stroke: currentColor;\n",
              "  fill: currentColor;\n",
              "}\n",
              "</style><pre class='xr-text-repr-fallback'>&lt;xarray.DataArray &#x27;tstar_gb&#x27; (Time: 588, y: 1, x: 1)&gt;\n",
              "array([[[274.66254]],\n",
              "\n",
              "       [[274.93176]],\n",
              "\n",
              "       ...,\n",
              "\n",
              "       [[283.9293 ]],\n",
              "\n",
              "       [[278.4061 ]]], dtype=float32)\n",
              "Coordinates:\n",
              "  * Time         (Time) object 1962-01-01 00:00:00 ... 2010-12-01 00:00:00\n",
              "  * x            (x) float64 0.5\n",
              "  * y            (y) float64 0.5\n",
              "    spatial_ref  int64 0\n",
              "Attributes: (12/13)\n",
              "    date:           01/01/61\n",
              "    long_name:      Gridbox surface temperature\n",
              "    missing_value:  2e+20\n",
              "    name:           tstar_gb\n",
              "    source:         \n",
              "    time:           00:00\n",
              "    ...             ...\n",
              "    units:          (&#x27;K&#x27;, &#x27;K&#x27;, &#x27;K&#x27;, &#x27;K&#x27;, &#x27;K&#x27;, &#x27;K&#x27;, &#x27;K&#x27;, &#x27;K&#x27;, &#x27;K&#x27;, &#x27;K&#x27;, &#x27;K&#x27;, &#x27;...\n",
              "    valid_max:      300.32175\n",
              "    valid_min:      267.81564\n",
              "    _FillValue:     2.0000000400817547e+20\n",
              "    scale_factor:   1.0\n",
              "    add_offset:     0.0</pre><div class='xr-wrap' hidden><div class='xr-header'><div class='xr-obj-type'>xarray.DataArray</div><div class='xr-array-name'>'tstar_gb'</div><ul class='xr-dim-list'><li><span class='xr-has-index'>Time</span>: 588</li><li><span class='xr-has-index'>y</span>: 1</li><li><span class='xr-has-index'>x</span>: 1</li></ul></div><ul class='xr-sections'><li class='xr-section-item'><div class='xr-array-wrap'><input id='section-a046ed40-310e-4ca9-949f-5cc9d35fe3aa' class='xr-array-in' type='checkbox' checked><label for='section-a046ed40-310e-4ca9-949f-5cc9d35fe3aa' title='Show/hide data repr'><svg class='icon xr-icon-database'><use xlink:href='#icon-database'></use></svg></label><div class='xr-array-preview xr-preview'><span>274.7 274.9 276.8 277.2 283.3 287.6 ... 297.0 292.3 288.9 283.9 278.4</span></div><div class='xr-array-data'><pre>array([[[274.66254]],\n",
              "\n",
              "       [[274.93176]],\n",
              "\n",
              "       ...,\n",
              "\n",
              "       [[283.9293 ]],\n",
              "\n",
              "       [[278.4061 ]]], dtype=float32)</pre></div></div></li><li class='xr-section-item'><input id='section-0404e804-22e8-4fbf-8d10-29d0cff853c7' class='xr-section-summary-in' type='checkbox'  checked><label for='section-0404e804-22e8-4fbf-8d10-29d0cff853c7' class='xr-section-summary' >Coordinates: <span>(4)</span></label><div class='xr-section-inline-details'></div><div class='xr-section-details'><ul class='xr-var-list'><li class='xr-var-item'><div class='xr-var-name'><span class='xr-has-index'>Time</span></div><div class='xr-var-dims'>(Time)</div><div class='xr-var-dtype'>object</div><div class='xr-var-preview xr-preview'>1962-01-01 00:00:00 ... 2010-12-...</div><input id='attrs-f94523af-c625-4e42-9dee-26b8f63fdabf' class='xr-var-attrs-in' type='checkbox' ><label for='attrs-f94523af-c625-4e42-9dee-26b8f63fdabf' title='Show/Hide attributes'><svg class='icon xr-icon-file-text2'><use xlink:href='#icon-file-text2'></use></svg></label><input id='data-d7be59a8-4457-4d9b-b783-17812935bd9d' class='xr-var-data-in' type='checkbox'><label for='data-d7be59a8-4457-4d9b-b783-17812935bd9d' title='Show/Hide data repr'><svg class='icon xr-icon-database'><use xlink:href='#icon-database'></use></svg></label><div class='xr-var-attrs'><dl class='xr-attrs'><dt><span>long_name :</span></dt><dd>Time of data</dd><dt><span>standard_name :</span></dt><dd>time</dd><dt><span>time_origin :</span></dt><dd>01-JAN-1961:00:00:00</dd></dl></div><div class='xr-var-data'><pre>array([cftime.DatetimeGregorian(1962, 1, 1, 0, 0, 0, 0, has_year_zero=False),\n",
              "       cftime.DatetimeGregorian(1962, 2, 1, 0, 0, 0, 0, has_year_zero=False),\n",
              "       cftime.DatetimeGregorian(1962, 3, 1, 0, 0, 0, 0, has_year_zero=False),\n",
              "       ...,\n",
              "       cftime.DatetimeGregorian(2010, 10, 1, 0, 0, 0, 0, has_year_zero=False),\n",
              "       cftime.DatetimeGregorian(2010, 11, 1, 0, 0, 0, 0, has_year_zero=False),\n",
              "       cftime.DatetimeGregorian(2010, 12, 1, 0, 0, 0, 0, has_year_zero=False)],\n",
              "      dtype=object)</pre></div></li><li class='xr-var-item'><div class='xr-var-name'><span class='xr-has-index'>x</span></div><div class='xr-var-dims'>(x)</div><div class='xr-var-dtype'>float64</div><div class='xr-var-preview xr-preview'>0.5</div><input id='attrs-aa3e615e-e645-4e4f-9dd0-b33f084fb9cb' class='xr-var-attrs-in' type='checkbox' ><label for='attrs-aa3e615e-e645-4e4f-9dd0-b33f084fb9cb' title='Show/Hide attributes'><svg class='icon xr-icon-file-text2'><use xlink:href='#icon-file-text2'></use></svg></label><input id='data-d17027b1-71db-44b1-b52e-fbfe4a15b745' class='xr-var-data-in' type='checkbox'><label for='data-d17027b1-71db-44b1-b52e-fbfe4a15b745' title='Show/Hide data repr'><svg class='icon xr-icon-database'><use xlink:href='#icon-database'></use></svg></label><div class='xr-var-attrs'><dl class='xr-attrs'><dt><span>long_name :</span></dt><dd>easting - OSGB36 grid reference</dd><dt><span>point_spacing :</span></dt><dd>even</dd><dt><span>standard_name :</span></dt><dd>projection_x_coordinate</dd><dt><span>units :</span></dt><dd>m</dd></dl></div><div class='xr-var-data'><pre>array([0.5])</pre></div></li><li class='xr-var-item'><div class='xr-var-name'><span class='xr-has-index'>y</span></div><div class='xr-var-dims'>(y)</div><div class='xr-var-dtype'>float64</div><div class='xr-var-preview xr-preview'>0.5</div><input id='attrs-b0084243-19be-4bc9-8d88-b495ce5cc363' class='xr-var-attrs-in' type='checkbox' ><label for='attrs-b0084243-19be-4bc9-8d88-b495ce5cc363' title='Show/Hide attributes'><svg class='icon xr-icon-file-text2'><use xlink:href='#icon-file-text2'></use></svg></label><input id='data-a93fb26b-6015-4eba-940c-97bf62726f39' class='xr-var-data-in' type='checkbox'><label for='data-a93fb26b-6015-4eba-940c-97bf62726f39' title='Show/Hide data repr'><svg class='icon xr-icon-database'><use xlink:href='#icon-database'></use></svg></label><div class='xr-var-attrs'><dl class='xr-attrs'><dt><span>long_name :</span></dt><dd>northing - OSGB36 grid reference</dd><dt><span>point_spacing :</span></dt><dd>even</dd><dt><span>standard_name :</span></dt><dd>projection_x_coordinate</dd><dt><span>units :</span></dt><dd>m</dd></dl></div><div class='xr-var-data'><pre>array([0.5])</pre></div></li><li class='xr-var-item'><div class='xr-var-name'><span>spatial_ref</span></div><div class='xr-var-dims'>()</div><div class='xr-var-dtype'>int64</div><div class='xr-var-preview xr-preview'>0</div><input id='attrs-5a7a061f-68a8-4f76-a46b-9c4d619511b5' class='xr-var-attrs-in' type='checkbox' ><label for='attrs-5a7a061f-68a8-4f76-a46b-9c4d619511b5' title='Show/Hide attributes'><svg class='icon xr-icon-file-text2'><use xlink:href='#icon-file-text2'></use></svg></label><input id='data-474ef21d-66f2-4a0b-8e41-8eb529e7c995' class='xr-var-data-in' type='checkbox'><label for='data-474ef21d-66f2-4a0b-8e41-8eb529e7c995' title='Show/Hide data repr'><svg class='icon xr-icon-database'><use xlink:href='#icon-database'></use></svg></label><div class='xr-var-attrs'><dl class='xr-attrs'><dt><span>GeoTransform :</span></dt><dd>0.0 1.0 0.0 0.0 0.0 1.0</dd></dl></div><div class='xr-var-data'><pre>array(0)</pre></div></li></ul></div></li><li class='xr-section-item'><input id='section-b3eae1ff-18e5-4250-a5ee-3c43737200d9' class='xr-section-summary-in' type='checkbox'  ><label for='section-b3eae1ff-18e5-4250-a5ee-3c43737200d9' class='xr-section-summary' >Attributes: <span>(13)</span></label><div class='xr-section-inline-details'></div><div class='xr-section-details'><dl class='xr-attrs'><dt><span>date :</span></dt><dd>01/01/61</dd><dt><span>long_name :</span></dt><dd>Gridbox surface temperature</dd><dt><span>missing_value :</span></dt><dd>2e+20</dd><dt><span>name :</span></dt><dd>tstar_gb</dd><dt><span>source :</span></dt><dd></dd><dt><span>time :</span></dt><dd>00:00</dd><dt><span>title :</span></dt><dd>Gridbox surface temperature</dd><dt><span>units :</span></dt><dd>(&#x27;K&#x27;, &#x27;K&#x27;, &#x27;K&#x27;, &#x27;K&#x27;, &#x27;K&#x27;, &#x27;K&#x27;, &#x27;K&#x27;, &#x27;K&#x27;, &#x27;K&#x27;, &#x27;K&#x27;, &#x27;K&#x27;, &#x27;K&#x27;, &#x27;K&#x27;, &#x27;K&#x27;, &#x27;K&#x27;, &#x27;K&#x27;, &#x27;K&#x27;, &#x27;K&#x27;, &#x27;K&#x27;, &#x27;K&#x27;, &#x27;K&#x27;, &#x27;K&#x27;, &#x27;K&#x27;, &#x27;K&#x27;, &#x27;K&#x27;, &#x27;K&#x27;, &#x27;K&#x27;, &#x27;K&#x27;, &#x27;K&#x27;, &#x27;K&#x27;, &#x27;K&#x27;, &#x27;K&#x27;, &#x27;K&#x27;, &#x27;K&#x27;, &#x27;K&#x27;, &#x27;K&#x27;, &#x27;K&#x27;, &#x27;K&#x27;, &#x27;K&#x27;, &#x27;K&#x27;, &#x27;K&#x27;, &#x27;K&#x27;, &#x27;K&#x27;, &#x27;K&#x27;, &#x27;K&#x27;, &#x27;K&#x27;, &#x27;K&#x27;, &#x27;K&#x27;, &#x27;K&#x27;, &#x27;K&#x27;, &#x27;K&#x27;, &#x27;K&#x27;, &#x27;K&#x27;, &#x27;K&#x27;, &#x27;K&#x27;, &#x27;K&#x27;, &#x27;K&#x27;, &#x27;K&#x27;, &#x27;K&#x27;, &#x27;K&#x27;, &#x27;K&#x27;, &#x27;K&#x27;, &#x27;K&#x27;, &#x27;K&#x27;, &#x27;K&#x27;, &#x27;K&#x27;, &#x27;K&#x27;, &#x27;K&#x27;, &#x27;K&#x27;, &#x27;K&#x27;, &#x27;K&#x27;, &#x27;K&#x27;, &#x27;K&#x27;, &#x27;K&#x27;, &#x27;K&#x27;, &#x27;K&#x27;, &#x27;K&#x27;, &#x27;K&#x27;, &#x27;K&#x27;, &#x27;K&#x27;, &#x27;K&#x27;, &#x27;K&#x27;, &#x27;K&#x27;, &#x27;K&#x27;, &#x27;K&#x27;, &#x27;K&#x27;, &#x27;K&#x27;, &#x27;K&#x27;, &#x27;K&#x27;, &#x27;K&#x27;, &#x27;K&#x27;, &#x27;K&#x27;, &#x27;K&#x27;, &#x27;K&#x27;, &#x27;K&#x27;, &#x27;K&#x27;, &#x27;K&#x27;, &#x27;K&#x27;, &#x27;K&#x27;, &#x27;K&#x27;, &#x27;K&#x27;, &#x27;K&#x27;, &#x27;K&#x27;, &#x27;K&#x27;, &#x27;K&#x27;, &#x27;K&#x27;, &#x27;K&#x27;, &#x27;K&#x27;, &#x27;K&#x27;, &#x27;K&#x27;, &#x27;K&#x27;, &#x27;K&#x27;, &#x27;K&#x27;, &#x27;K&#x27;, &#x27;K&#x27;, &#x27;K&#x27;, &#x27;K&#x27;, &#x27;K&#x27;, &#x27;K&#x27;, &#x27;K&#x27;, &#x27;K&#x27;, &#x27;K&#x27;, &#x27;K&#x27;, &#x27;K&#x27;, &#x27;K&#x27;, &#x27;K&#x27;, &#x27;K&#x27;, &#x27;K&#x27;, &#x27;K&#x27;, &#x27;K&#x27;, &#x27;K&#x27;, &#x27;K&#x27;, &#x27;K&#x27;, &#x27;K&#x27;, &#x27;K&#x27;, &#x27;K&#x27;, &#x27;K&#x27;, &#x27;K&#x27;, &#x27;K&#x27;, &#x27;K&#x27;, &#x27;K&#x27;, &#x27;K&#x27;, &#x27;K&#x27;, &#x27;K&#x27;, &#x27;K&#x27;, &#x27;K&#x27;, &#x27;K&#x27;, &#x27;K&#x27;, &#x27;K&#x27;, &#x27;K&#x27;, &#x27;K&#x27;, &#x27;K&#x27;, &#x27;K&#x27;, &#x27;K&#x27;, &#x27;K&#x27;, &#x27;K&#x27;, &#x27;K&#x27;, &#x27;K&#x27;, &#x27;K&#x27;, &#x27;K&#x27;, &#x27;K&#x27;, &#x27;K&#x27;, &#x27;K&#x27;, &#x27;K&#x27;, &#x27;K&#x27;, &#x27;K&#x27;, &#x27;K&#x27;, &#x27;K&#x27;, &#x27;K&#x27;, &#x27;K&#x27;, &#x27;K&#x27;, &#x27;K&#x27;, &#x27;K&#x27;, &#x27;K&#x27;, &#x27;K&#x27;, &#x27;K&#x27;, &#x27;K&#x27;, &#x27;K&#x27;, &#x27;K&#x27;, &#x27;K&#x27;, &#x27;K&#x27;, &#x27;K&#x27;, &#x27;K&#x27;, &#x27;K&#x27;, &#x27;K&#x27;, &#x27;K&#x27;, &#x27;K&#x27;, &#x27;K&#x27;, &#x27;K&#x27;, &#x27;K&#x27;, &#x27;K&#x27;, &#x27;K&#x27;, &#x27;K&#x27;, &#x27;K&#x27;, &#x27;K&#x27;, &#x27;K&#x27;, &#x27;K&#x27;, &#x27;K&#x27;, &#x27;K&#x27;, &#x27;K&#x27;, &#x27;K&#x27;, &#x27;K&#x27;, &#x27;K&#x27;, &#x27;K&#x27;, &#x27;K&#x27;, &#x27;K&#x27;, &#x27;K&#x27;, &#x27;K&#x27;, &#x27;K&#x27;, &#x27;K&#x27;, &#x27;K&#x27;, &#x27;K&#x27;, &#x27;K&#x27;, &#x27;K&#x27;, &#x27;K&#x27;, &#x27;K&#x27;, &#x27;K&#x27;, &#x27;K&#x27;, &#x27;K&#x27;, &#x27;K&#x27;, &#x27;K&#x27;, &#x27;K&#x27;, &#x27;K&#x27;, &#x27;K&#x27;, &#x27;K&#x27;, &#x27;K&#x27;, &#x27;K&#x27;, &#x27;K&#x27;, &#x27;K&#x27;, &#x27;K&#x27;, &#x27;K&#x27;, &#x27;K&#x27;, &#x27;K&#x27;, &#x27;K&#x27;, &#x27;K&#x27;, &#x27;K&#x27;, &#x27;K&#x27;, &#x27;K&#x27;, &#x27;K&#x27;, &#x27;K&#x27;, &#x27;K&#x27;, &#x27;K&#x27;, &#x27;K&#x27;, &#x27;K&#x27;, &#x27;K&#x27;, &#x27;K&#x27;, &#x27;K&#x27;, &#x27;K&#x27;, &#x27;K&#x27;, &#x27;K&#x27;, &#x27;K&#x27;, &#x27;K&#x27;, &#x27;K&#x27;, &#x27;K&#x27;, &#x27;K&#x27;, &#x27;K&#x27;, &#x27;K&#x27;, &#x27;K&#x27;, &#x27;K&#x27;, &#x27;K&#x27;, &#x27;K&#x27;, &#x27;K&#x27;, &#x27;K&#x27;, &#x27;K&#x27;, &#x27;K&#x27;, &#x27;K&#x27;, &#x27;K&#x27;, &#x27;K&#x27;, &#x27;K&#x27;, &#x27;K&#x27;, &#x27;K&#x27;, &#x27;K&#x27;, &#x27;K&#x27;, &#x27;K&#x27;, &#x27;K&#x27;, &#x27;K&#x27;, &#x27;K&#x27;, &#x27;K&#x27;, &#x27;K&#x27;, &#x27;K&#x27;, &#x27;K&#x27;, &#x27;K&#x27;, &#x27;K&#x27;, &#x27;K&#x27;, &#x27;K&#x27;, &#x27;K&#x27;, &#x27;K&#x27;, &#x27;K&#x27;, &#x27;K&#x27;, &#x27;K&#x27;, &#x27;K&#x27;, &#x27;K&#x27;, &#x27;K&#x27;, &#x27;K&#x27;, &#x27;K&#x27;, &#x27;K&#x27;, &#x27;K&#x27;, &#x27;K&#x27;, &#x27;K&#x27;, &#x27;K&#x27;, &#x27;K&#x27;, &#x27;K&#x27;, &#x27;K&#x27;, &#x27;K&#x27;, &#x27;K&#x27;, &#x27;K&#x27;, &#x27;K&#x27;, &#x27;K&#x27;, &#x27;K&#x27;, &#x27;K&#x27;, &#x27;K&#x27;, &#x27;K&#x27;, &#x27;K&#x27;, &#x27;K&#x27;, &#x27;K&#x27;, &#x27;K&#x27;, &#x27;K&#x27;, &#x27;K&#x27;, &#x27;K&#x27;, &#x27;K&#x27;, &#x27;K&#x27;, &#x27;K&#x27;, &#x27;K&#x27;, &#x27;K&#x27;, &#x27;K&#x27;, &#x27;K&#x27;, &#x27;K&#x27;, &#x27;K&#x27;, &#x27;K&#x27;, &#x27;K&#x27;, &#x27;K&#x27;, &#x27;K&#x27;, &#x27;K&#x27;, &#x27;K&#x27;, &#x27;K&#x27;, &#x27;K&#x27;, &#x27;K&#x27;, &#x27;K&#x27;, &#x27;K&#x27;, &#x27;K&#x27;, &#x27;K&#x27;, &#x27;K&#x27;, &#x27;K&#x27;, &#x27;K&#x27;, &#x27;K&#x27;, &#x27;K&#x27;, &#x27;K&#x27;, &#x27;K&#x27;, &#x27;K&#x27;, &#x27;K&#x27;, &#x27;K&#x27;, &#x27;K&#x27;, &#x27;K&#x27;, &#x27;K&#x27;, &#x27;K&#x27;, &#x27;K&#x27;, &#x27;K&#x27;, &#x27;K&#x27;, &#x27;K&#x27;, &#x27;K&#x27;, &#x27;K&#x27;, &#x27;K&#x27;, &#x27;K&#x27;, &#x27;K&#x27;, &#x27;K&#x27;, &#x27;K&#x27;, &#x27;K&#x27;, &#x27;K&#x27;, &#x27;K&#x27;, &#x27;K&#x27;, &#x27;K&#x27;, &#x27;K&#x27;, &#x27;K&#x27;, &#x27;K&#x27;, &#x27;K&#x27;, &#x27;K&#x27;, &#x27;K&#x27;, &#x27;K&#x27;, &#x27;K&#x27;, &#x27;K&#x27;, &#x27;K&#x27;, &#x27;K&#x27;, &#x27;K&#x27;, &#x27;K&#x27;, &#x27;K&#x27;, &#x27;K&#x27;, &#x27;K&#x27;, &#x27;K&#x27;, &#x27;K&#x27;, &#x27;K&#x27;, &#x27;K&#x27;, &#x27;K&#x27;, &#x27;K&#x27;, &#x27;K&#x27;, &#x27;K&#x27;, &#x27;K&#x27;, &#x27;K&#x27;, &#x27;K&#x27;, &#x27;K&#x27;, &#x27;K&#x27;, &#x27;K&#x27;, &#x27;K&#x27;, &#x27;K&#x27;, &#x27;K&#x27;, &#x27;K&#x27;, &#x27;K&#x27;, &#x27;K&#x27;, &#x27;K&#x27;, &#x27;K&#x27;, &#x27;K&#x27;, &#x27;K&#x27;, &#x27;K&#x27;, &#x27;K&#x27;, &#x27;K&#x27;, &#x27;K&#x27;, &#x27;K&#x27;, &#x27;K&#x27;, &#x27;K&#x27;, &#x27;K&#x27;, &#x27;K&#x27;, &#x27;K&#x27;, &#x27;K&#x27;, &#x27;K&#x27;, &#x27;K&#x27;, &#x27;K&#x27;, &#x27;K&#x27;, &#x27;K&#x27;, &#x27;K&#x27;, &#x27;K&#x27;, &#x27;K&#x27;, &#x27;K&#x27;, &#x27;K&#x27;, &#x27;K&#x27;, &#x27;K&#x27;, &#x27;K&#x27;, &#x27;K&#x27;, &#x27;K&#x27;, &#x27;K&#x27;, &#x27;K&#x27;, &#x27;K&#x27;, &#x27;K&#x27;, &#x27;K&#x27;, &#x27;K&#x27;, &#x27;K&#x27;, &#x27;K&#x27;, &#x27;K&#x27;, &#x27;K&#x27;, &#x27;K&#x27;, &#x27;K&#x27;, &#x27;K&#x27;, &#x27;K&#x27;, &#x27;K&#x27;, &#x27;K&#x27;, &#x27;K&#x27;, &#x27;K&#x27;, &#x27;K&#x27;, &#x27;K&#x27;, &#x27;K&#x27;, &#x27;K&#x27;, &#x27;K&#x27;, &#x27;K&#x27;, &#x27;K&#x27;, &#x27;K&#x27;, &#x27;K&#x27;, &#x27;K&#x27;, &#x27;K&#x27;, &#x27;K&#x27;, &#x27;K&#x27;, &#x27;K&#x27;, &#x27;K&#x27;, &#x27;K&#x27;, &#x27;K&#x27;, &#x27;K&#x27;, &#x27;K&#x27;, &#x27;K&#x27;, &#x27;K&#x27;, &#x27;K&#x27;, &#x27;K&#x27;, &#x27;K&#x27;, &#x27;K&#x27;, &#x27;K&#x27;, &#x27;K&#x27;, &#x27;K&#x27;, &#x27;K&#x27;, &#x27;K&#x27;, &#x27;K&#x27;, &#x27;K&#x27;, &#x27;K&#x27;, &#x27;K&#x27;, &#x27;K&#x27;, &#x27;K&#x27;, &#x27;K&#x27;, &#x27;K&#x27;, &#x27;K&#x27;, &#x27;K&#x27;, &#x27;K&#x27;, &#x27;K&#x27;, &#x27;K&#x27;, &#x27;K&#x27;, &#x27;K&#x27;, &#x27;K&#x27;, &#x27;K&#x27;, &#x27;K&#x27;, &#x27;K&#x27;, &#x27;K&#x27;, &#x27;K&#x27;, &#x27;K&#x27;, &#x27;K&#x27;, &#x27;K&#x27;, &#x27;K&#x27;, &#x27;K&#x27;, &#x27;K&#x27;, &#x27;K&#x27;, &#x27;K&#x27;, &#x27;K&#x27;, &#x27;K&#x27;, &#x27;K&#x27;, &#x27;K&#x27;, &#x27;K&#x27;, &#x27;K&#x27;, &#x27;K&#x27;, &#x27;K&#x27;, &#x27;K&#x27;, &#x27;K&#x27;, &#x27;K&#x27;, &#x27;K&#x27;, &#x27;K&#x27;, &#x27;K&#x27;, &#x27;K&#x27;, &#x27;K&#x27;, &#x27;K&#x27;, &#x27;K&#x27;, &#x27;K&#x27;, &#x27;K&#x27;, &#x27;K&#x27;, &#x27;K&#x27;, &#x27;K&#x27;, &#x27;K&#x27;, &#x27;K&#x27;, &#x27;K&#x27;, &#x27;K&#x27;, &#x27;K&#x27;, &#x27;K&#x27;, &#x27;K&#x27;, &#x27;K&#x27;, &#x27;K&#x27;, &#x27;K&#x27;, &#x27;K&#x27;, &#x27;K&#x27;, &#x27;K&#x27;, &#x27;K&#x27;, &#x27;K&#x27;, &#x27;K&#x27;, &#x27;K&#x27;, &#x27;K&#x27;, &#x27;K&#x27;, &#x27;K&#x27;, &#x27;K&#x27;, &#x27;K&#x27;, &#x27;K&#x27;, &#x27;K&#x27;, &#x27;K&#x27;, &#x27;K&#x27;, &#x27;K&#x27;, &#x27;K&#x27;, &#x27;K&#x27;, &#x27;K&#x27;, &#x27;K&#x27;, &#x27;K&#x27;, &#x27;K&#x27;, &#x27;K&#x27;, &#x27;K&#x27;, &#x27;K&#x27;, &#x27;K&#x27;, &#x27;K&#x27;, &#x27;K&#x27;, &#x27;K&#x27;, &#x27;K&#x27;, &#x27;K&#x27;, &#x27;K&#x27;, &#x27;K&#x27;, &#x27;K&#x27;, &#x27;K&#x27;, &#x27;K&#x27;, &#x27;K&#x27;, &#x27;K&#x27;, &#x27;K&#x27;, &#x27;K&#x27;)</dd><dt><span>valid_max :</span></dt><dd>300.32175</dd><dt><span>valid_min :</span></dt><dd>267.81564</dd><dt><span>_FillValue :</span></dt><dd>2.0000000400817547e+20</dd><dt><span>scale_factor :</span></dt><dd>1.0</dd><dt><span>add_offset :</span></dt><dd>0.0</dd></dl></div></li></ul></div></div>"
            ],
            "text/plain": [
              "<xarray.DataArray 'tstar_gb' (Time: 588, y: 1, x: 1)>\n",
              "array([[[274.66254]],\n",
              "\n",
              "       [[274.93176]],\n",
              "\n",
              "       ...,\n",
              "\n",
              "       [[283.9293 ]],\n",
              "\n",
              "       [[278.4061 ]]], dtype=float32)\n",
              "Coordinates:\n",
              "  * Time         (Time) object 1962-01-01 00:00:00 ... 2010-12-01 00:00:00\n",
              "  * x            (x) float64 0.5\n",
              "  * y            (y) float64 0.5\n",
              "    spatial_ref  int64 0\n",
              "Attributes: (12/13)\n",
              "    date:           01/01/61\n",
              "    long_name:      Gridbox surface temperature\n",
              "    missing_value:  2e+20\n",
              "    name:           tstar_gb\n",
              "    source:         \n",
              "    time:           00:00\n",
              "    ...             ...\n",
              "    units:          ('K', 'K', 'K', 'K', 'K', 'K', 'K', 'K', 'K', 'K', 'K', '...\n",
              "    valid_max:      300.32175\n",
              "    valid_min:      267.81564\n",
              "    _FillValue:     2.0000000400817547e+20\n",
              "    scale_factor:   1.0\n",
              "    add_offset:     0.0"
            ]
          },
          "metadata": {},
          "execution_count": 18
        }
      ]
    },
    {
      "cell_type": "code",
      "source": [
        "xr.attrs['units']='mm'\n"
      ],
      "metadata": {
        "id": "WLu-KuxcAu2V"
      },
      "execution_count": 24,
      "outputs": []
    },
    {
      "cell_type": "code",
      "source": [
        "print(xr.dims)\n",
        "  "
      ],
      "metadata": {
        "colab": {
          "base_uri": "https://localhost:8080/"
        },
        "id": "_LfHu1k-7MvV",
        "outputId": "617a1232-2cde-4f5a-9288-ec886be6ec7d"
      },
      "execution_count": 20,
      "outputs": [
        {
          "output_type": "stream",
          "name": "stdout",
          "text": [
            "('Time', 'y', 'x')\n"
          ]
        }
      ]
    },
    {
      "cell_type": "code",
      "source": [
        "print(xr.coords)\n"
      ],
      "metadata": {
        "colab": {
          "base_uri": "https://localhost:8080/"
        },
        "id": "rh2o005Rt9ZL",
        "outputId": "e71012fc-b873-472c-a966-0940094e0db4"
      },
      "execution_count": 26,
      "outputs": [
        {
          "output_type": "stream",
          "name": "stdout",
          "text": [
            "Coordinates:\n",
            "  * Time         (Time) object 1962-01-01 00:00:00 ... 2010-12-01 00:00:00\n",
            "  * x            (x) float64 0.5\n",
            "  * y            (y) float64 0.5\n",
            "    spatial_ref  int64 0\n"
          ]
        }
      ]
    },
    {
      "cell_type": "code",
      "source": [
        "print(xr[:, :10, :10])"
      ],
      "metadata": {
        "colab": {
          "base_uri": "https://localhost:8080/"
        },
        "id": "-_lWuYLq8FHu",
        "outputId": "8d3fb55d-a28e-4def-bf3f-190d1c8740f3"
      },
      "execution_count": 29,
      "outputs": [
        {
          "output_type": "stream",
          "name": "stdout",
          "text": [
            "<xarray.DataArray 'tstar_gb' (Time: 588, y: 1, x: 1)>\n",
            "array([[[274.66254]],\n",
            "\n",
            "       [[274.93176]],\n",
            "\n",
            "       ...,\n",
            "\n",
            "       [[283.9293 ]],\n",
            "\n",
            "       [[278.4061 ]]], dtype=float32)\n",
            "Coordinates:\n",
            "  * Time         (Time) object 1962-01-01 00:00:00 ... 2010-12-01 00:00:00\n",
            "  * x            (x) float64 0.5\n",
            "  * y            (y) float64 0.5\n",
            "    spatial_ref  int64 0\n",
            "Attributes: (12/13)\n",
            "    date:           01/01/61\n",
            "    long_name:      Gridbox surface temperature\n",
            "    missing_value:  2e+20\n",
            "    name:           tstar_gb\n",
            "    source:         \n",
            "    time:           00:00\n",
            "    ...             ...\n",
            "    units:          mm\n",
            "    valid_max:      300.32175\n",
            "    valid_min:      267.81564\n",
            "    _FillValue:     2.0000000400817547e+20\n",
            "    scale_factor:   1.0\n",
            "    add_offset:     0.0\n"
          ]
        }
      ]
    },
    {
      "cell_type": "markdown",
      "source": [
        "##plotting "
      ],
      "metadata": {
        "id": "ynMYu3sOCLr6"
      }
    },
    {
      "cell_type": "code",
      "source": [
        "xr[:, :10, :10].plot()"
      ],
      "metadata": {
        "colab": {
          "base_uri": "https://localhost:8080/",
          "height": 312
        },
        "id": "95tlcgTX9K_3",
        "outputId": "c9523afd-589a-4e56-a651-92fcc74fdd9a"
      },
      "execution_count": 30,
      "outputs": [
        {
          "output_type": "execute_result",
          "data": {
            "text/plain": [
              "[<matplotlib.lines.Line2D at 0x7ff9580b5850>]"
            ]
          },
          "metadata": {},
          "execution_count": 30
        },
        {
          "output_type": "display_data",
          "data": {
            "image/png": "[encoded data removed]",
            "text/plain": [
              "<Figure size 432x288 with 1 Axes>"
            ]
          },
          "metadata": {
            "needs_background": "light"
          }
        }
      ]
    },
    {
      "cell_type": "code",
      "source": [
        "xr[:, :15, :15].plot()"
      ],
      "metadata": {
        "colab": {
          "base_uri": "https://localhost:8080/",
          "height": 312
        },
        "id": "R8fzDuEG9llU",
        "outputId": "0f531918-cd97-4580-b98c-a09ba10bccf7"
      },
      "execution_count": 31,
      "outputs": [
        {
          "output_type": "execute_result",
          "data": {
            "text/plain": [
              "[<matplotlib.lines.Line2D at 0x7ff958094e90>]"
            ]
          },
          "metadata": {},
          "execution_count": 31
        },
        {
          "output_type": "display_data",
          "data": {
            "image/png": "[encoded data removed]",
            "text/plain": [
              "<Figure size 432x288 with 1 Axes>"
            ]
          },
          "metadata": {
            "needs_background": "light"
          }
        }
      ]
    },
    {
      "cell_type": "markdown",
      "source": [
        "##Task 2\n",
        "\n",
        "Write a set of functions that will calculate and compare the mean seasonal cycle of temperature for each land cover type (i.e., the average over the years of temperature for each calendar month).  Describe your results using plots and brief text.   \n",
        "Present your results in the form of a short description and interpretation (no more than one page) plus no more than four plots.  You should also submit your code file for assessment. "
      ],
      "metadata": {
        "id": "z6qofs1fw_Y8"
      }
    },
    {
      "cell_type": "code",
      "source": [
        ""
      ],
      "metadata": {
        "id": "cWJLqII6hc3F"
      },
      "execution_count": null,
      "outputs": []
    }
  ]
}